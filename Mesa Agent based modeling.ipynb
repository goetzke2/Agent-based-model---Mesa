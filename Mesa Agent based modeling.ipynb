{
 "cells": [
  {
   "cell_type": "markdown",
   "metadata": {},
   "source": [
    "https://mesa.readthedocs.io/en/master/tutorials/intro_tutorial.html"
   ]
  },
  {
   "cell_type": "code",
   "execution_count": 1,
   "metadata": {},
   "outputs": [],
   "source": [
    "from mesa import Agent, Model"
   ]
  },
  {
   "cell_type": "code",
   "execution_count": 75,
   "metadata": {},
   "outputs": [],
   "source": [
    "class MoneyAgent(Agent):\n",
    "    \"\"\"An agent with fixed initial wealth\"\"\"\n",
    "    def __init__(self, unique_id, model):\n",
    "        super().__init__(unique_id, model)\n",
    "        self.wealth = 1\n",
    "        \n",
    "    def step(self):\n",
    "        #the agent's step will go here.\n",
    "        #for demonstraton purposes we will print the agent's unique_id\n",
    "        print( str(self.unique_id) + \" id| wealth \" + str(self.wealth))\n",
    "        if self.wealth > 0:\n",
    "            other_agent = self.random.choice(self.model.schedule.agents)\n",
    "            other_agent.wealth +=1 #there is a 10% chance that nothing will happen because the agent ends up giving money to self\n",
    "            self.wealth -= 1"
   ]
  },
  {
   "cell_type": "code",
   "execution_count": 76,
   "metadata": {},
   "outputs": [],
   "source": [
    "from mesa.time import RandomActivation"
   ]
  },
  {
   "cell_type": "code",
   "execution_count": 77,
   "metadata": {},
   "outputs": [],
   "source": [
    "class MoneyModel(Model):\n",
    "    \"\"\"A model with some number of agents.\"\"\"\n",
    "    def __init__(self, N):\n",
    "        self.num_agents = N\n",
    "        self.schedule = RandomActivation(self)\n",
    "        # Create agents\n",
    "        for i in range(self.num_agents):\n",
    "            a = MoneyAgent(i, self)\n",
    "            self.schedule.add(a)\n",
    "            \n",
    "    def step(self):\n",
    "        '''Advance the model by one step'''\n",
    "        self.schedule.step()"
   ]
  },
  {
   "cell_type": "code",
   "execution_count": null,
   "metadata": {},
   "outputs": [],
   "source": []
  },
  {
   "cell_type": "code",
   "execution_count": 78,
   "metadata": {},
   "outputs": [],
   "source": [
    "m = MoneyModel(10)"
   ]
  },
  {
   "cell_type": "code",
   "execution_count": 79,
   "metadata": {},
   "outputs": [
    {
     "name": "stdout",
     "output_type": "stream",
     "text": [
      "0 id| wealth 1\n",
      "7 id| wealth 1\n",
      "6 id| wealth 2\n",
      "8 id| wealth 2\n",
      "9 id| wealth 2\n",
      "4 id| wealth 1\n",
      "1 id| wealth 1\n",
      "3 id| wealth 4\n",
      "5 id| wealth 1\n",
      "2 id| wealth 2\n",
      "8 id| wealth 2\n",
      "1 id| wealth 0\n",
      "0 id| wealth 0\n",
      "4 id| wealth 0\n",
      "6 id| wealth 2\n",
      "3 id| wealth 4\n",
      "5 id| wealth 1\n",
      "7 id| wealth 0\n",
      "2 id| wealth 1\n",
      "9 id| wealth 1\n",
      "9 id| wealth 1\n",
      "0 id| wealth 2\n",
      "4 id| wealth 0\n",
      "7 id| wealth 1\n",
      "6 id| wealth 2\n",
      "1 id| wealth 1\n",
      "8 id| wealth 2\n",
      "5 id| wealth 0\n",
      "2 id| wealth 1\n",
      "3 id| wealth 4\n",
      "0 id| wealth 2\n",
      "9 id| wealth 1\n",
      "5 id| wealth 1\n",
      "7 id| wealth 0\n",
      "2 id| wealth 1\n",
      "6 id| wealth 2\n",
      "3 id| wealth 3\n",
      "4 id| wealth 2\n",
      "8 id| wealth 1\n",
      "1 id| wealth 1\n",
      "4 id| wealth 2\n",
      "2 id| wealth 0\n",
      "1 id| wealth 0\n",
      "3 id| wealth 3\n",
      "7 id| wealth 2\n",
      "5 id| wealth 0\n",
      "9 id| wealth 1\n",
      "6 id| wealth 2\n",
      "8 id| wealth 1\n",
      "0 id| wealth 4\n",
      "0 id| wealth 3\n",
      "8 id| wealth 1\n",
      "7 id| wealth 1\n",
      "6 id| wealth 1\n",
      "1 id| wealth 2\n",
      "4 id| wealth 1\n",
      "3 id| wealth 3\n",
      "2 id| wealth 0\n",
      "9 id| wealth 2\n",
      "5 id| wealth 0\n",
      "0 id| wealth 3\n",
      "5 id| wealth 1\n",
      "8 id| wealth 1\n",
      "6 id| wealth 1\n",
      "7 id| wealth 2\n",
      "2 id| wealth 0\n",
      "3 id| wealth 3\n",
      "1 id| wealth 1\n",
      "9 id| wealth 3\n",
      "4 id| wealth 1\n",
      "1 id| wealth 1\n",
      "8 id| wealth 1\n",
      "4 id| wealth 0\n",
      "5 id| wealth 0\n",
      "2 id| wealth 0\n",
      "6 id| wealth 1\n",
      "3 id| wealth 3\n",
      "0 id| wealth 2\n",
      "9 id| wealth 3\n",
      "7 id| wealth 2\n",
      "6 id| wealth 0\n",
      "4 id| wealth 1\n",
      "8 id| wealth 0\n",
      "2 id| wealth 0\n",
      "3 id| wealth 3\n",
      "0 id| wealth 1\n",
      "7 id| wealth 1\n",
      "5 id| wealth 0\n",
      "9 id| wealth 3\n",
      "1 id| wealth 2\n",
      "3 id| wealth 2\n",
      "0 id| wealth 1\n",
      "1 id| wealth 1\n",
      "2 id| wealth 2\n",
      "9 id| wealth 4\n",
      "5 id| wealth 1\n",
      "8 id| wealth 1\n",
      "6 id| wealth 0\n",
      "4 id| wealth 1\n",
      "7 id| wealth 1\n"
     ]
    }
   ],
   "source": [
    "for i in range(10):\n",
    "    m.step()"
   ]
  },
  {
   "cell_type": "code",
   "execution_count": null,
   "metadata": {},
   "outputs": [],
   "source": []
  }
 ],
 "metadata": {
  "kernelspec": {
   "display_name": "Python 3",
   "language": "python",
   "name": "python3"
  },
  "language_info": {
   "codemirror_mode": {
    "name": "ipython",
    "version": 3
   },
   "file_extension": ".py",
   "mimetype": "text/x-python",
   "name": "python",
   "nbconvert_exporter": "python",
   "pygments_lexer": "ipython3",
   "version": "3.7.3"
  }
 },
 "nbformat": 4,
 "nbformat_minor": 2
}
