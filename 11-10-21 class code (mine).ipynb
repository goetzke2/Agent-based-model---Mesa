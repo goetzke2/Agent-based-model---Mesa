{
 "cells": [
  {
   "cell_type": "markdown",
   "metadata": {},
   "source": [
    "Agent based simulation from class - see code named hap774-AMB-Peterson_HAll\n",
    "\n",
    "1. three types of agents\n",
    "2. Floorplan coded as graphs\n",
    "3. List of classes offered in building\n",
    "4. Agents need to be aware of:\n",
    "    - weekly schedule\n",
    "    - current location\n",
    "    - current activity\n",
    "    - goal related to current activity"
   ]
  },
  {
   "cell_type": "code",
   "execution_count": 13,
   "metadata": {},
   "outputs": [],
   "source": [
    "from mesa import Agent, Model\n",
    "from mesa.time import RandomActivation\n",
    "import pandas as pd"
   ]
  },
  {
   "cell_type": "code",
   "execution_count": 16,
   "metadata": {},
   "outputs": [],
   "source": [
    "ss = pd.DataFrame([['M 1500', 'M 1615', 'PETRSN 1113', 'ACCT 351'],\n",
    "['W 1500', 'W 1615', 'PETRSN 1113', 'ACCT 351']],\n",
    "columns = ['start', 'end', 'location', 'class'])\n",
    "\n",
    "ss"
   ]
  },
  {
   "cell_type": "code",
   "execution_count": 55,
   "metadata": {},
   "outputs": [],
   "source": [
    "def next_time(t):\n",
    "    \n",
    "    dd = t[0]\n",
    "    hh = t[2:4]\n",
    "    mm = t[4:]\n",
    "    \n",
    "    newmm = (int(mm) + 1) % 60\n",
    "    if newmm == 0:\n",
    "        newhh = (int(hh) + 1) % 24\n",
    "    else:\n",
    "        newhh = int(hh)\n",
    "    \n",
    "    if newmm < 10:\n",
    "        newmm = '0' + str(newmm)\n",
    "    else:\n",
    "        newmm = str(newmm)\n",
    "        \n",
    "    if newhh < 10:\n",
    "        newhh = '0' + str(newhh)\n",
    "    else:\n",
    "        newhh = str(newhh)    \n",
    "        \n",
    "    newtt = newhh + newmm    \n",
    "    \n",
    "    if newtt == '0000':\n",
    "        if dd == 'M':\n",
    "            dd = 'T'\n",
    "        elif dd == 'T':\n",
    "            dd = 'W'\n",
    "        elif dd == 'W':\n",
    "            dd = 'R'\n",
    "        elif dd == 'R':\n",
    "            dd = 'F'\n",
    "        elif dd == 'F':\n",
    "            dd = 'S'\n",
    "        elif dd == 'S':\n",
    "            dd = 'U'    \n",
    "        elif dd == 'U':\n",
    "            dd = 'M'    \n",
    "    \n",
    "    ret = dd + ' ' + newtt \n",
    "    \n",
    "    return ret"
   ]
  },
  {
   "cell_type": "code",
   "execution_count": 57,
   "metadata": {},
   "outputs": [
    {
     "data": {
      "text/plain": [
       "'M 1501'"
      ]
     },
     "execution_count": 57,
     "metadata": {},
     "output_type": "execute_result"
    }
   ],
   "source": [
    "next_time('M 1500')"
   ]
  },
  {
   "cell_type": "code",
   "execution_count": 78,
   "metadata": {},
   "outputs": [],
   "source": [
    "class StudentAgent(Agent):\n",
    "    \"\"\"A student agent with \"\"\"\n",
    "    def __init__(self, unique_id, model):\n",
    "        super().__init__(unique_id, model)\n",
    "        #property - a current location or weekly schedule\n",
    "        #need agent to know what to do based off of current action. what is it doing right now and what to do next\n",
    "        self.current_location = None\n",
    "        self.current_activity = None\n",
    "        self.schedule = ss\n",
    "        \n",
    "    def step(self): \n",
    "        \n",
    "        if (self.schedule['start'] == self.model.realtime).astype('int').max() > 0:\n",
    "            print('entering class' , self.model.realtime)\n",
    "            self.current_activity = 'in class'\n",
    "            \n",
    "        if (self.schedule['end'] == self.model.realtime).astype('int').max() > 0:\n",
    "            print('exiting class' , self.model.realtime)\n",
    "            self.current_activity = None\n",
    "            \n",
    "        '''\n",
    "        if self.model.realtime == ss.iloc[0]['start']:\n",
    "            print('entering class')\n",
    "        print('my schedule is ', self.schedule)\n",
    "        pass\n",
    "        '''"
   ]
  },
  {
   "cell_type": "code",
   "execution_count": 84,
   "metadata": {},
   "outputs": [],
   "source": [
    "class PetersonModel(Model):\n",
    "   \n",
    "    def __init__(self, N):\n",
    "        self.num_agents = N\n",
    "        self.schedule = RandomActivation(self)\n",
    "        \n",
    "        # keeps track of the simulation real time\n",
    "        self.realtime = 'M 0000'\n",
    "        \n",
    "        # Create agents\n",
    "        for i in range(self.num_agents):\n",
    "            a = StudentAgent(i, self)\n",
    "            self.schedule.add(a)\n",
    "            \n",
    "    def step(self):\n",
    "        '''Advance the model by one step'''\n",
    "        self.realtime = next_time(self.realtime) #this starts the clock at 0000\n",
    "        self.schedule.step()\n",
    "        #self.realtime = next_time(self.realtime) #this starts the clock at 0001\n",
    "        \n",
    "        "
   ]
  },
  {
   "cell_type": "code",
   "execution_count": 85,
   "metadata": {},
   "outputs": [],
   "source": [
    "m= PetersonModel(1)"
   ]
  },
  {
   "cell_type": "code",
   "execution_count": 86,
   "metadata": {},
   "outputs": [],
   "source": [
    "m.step()"
   ]
  },
  {
   "cell_type": "code",
   "execution_count": 87,
   "metadata": {},
   "outputs": [
    {
     "name": "stdout",
     "output_type": "stream",
     "text": [
      "entering class M 1500\n",
      "exiting class M 1615\n",
      "entering class W 1500\n",
      "exiting class W 1615\n"
     ]
    }
   ],
   "source": [
    "for i in range(10000):\n",
    "    m.step()"
   ]
  },
  {
   "cell_type": "code",
   "execution_count": null,
   "metadata": {},
   "outputs": [],
   "source": []
  }
 ],
 "metadata": {
  "kernelspec": {
   "display_name": "Python 3",
   "language": "python",
   "name": "python3"
  },
  "language_info": {
   "codemirror_mode": {
    "name": "ipython",
    "version": 3
   },
   "file_extension": ".py",
   "mimetype": "text/x-python",
   "name": "python",
   "nbconvert_exporter": "python",
   "pygments_lexer": "ipython3",
   "version": "3.7.3"
  }
 },
 "nbformat": 4,
 "nbformat_minor": 2
}
